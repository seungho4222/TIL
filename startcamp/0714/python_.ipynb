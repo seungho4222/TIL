{
 "cells": [
  {
   "cell_type": "markdown",
   "metadata": {},
   "source": [
    "# 파이썬 기초\n",
    "\n",
    "1. 저장\n",
    "2. 조건\n",
    "3. 반복"
   ]
  },
  {
   "cell_type": "markdown",
   "metadata": {},
   "source": [
    "## 1. 저장\n",
    "\n",
    "변수 : 하나의 값을 저장할 수 있는 저장 공간\n",
    "\n",
    "무엇을 저장하는가?\n",
    "\n",
    "1. 숫자\n",
    "    - 현실세계에 존재하는 모든 숫자, 기본적인 연산이 가능\n",
    "2. 글자/문자\n",
    "    - 현실세계에 존재하는 모든 글자, 파이썬에서 글자를 표현하기 위해서는 따옴표 사용\n",
    "        - 56, \"56\"\n",
    "3. 참/거짓\n",
    "    - True / False 단 두가지, 조건문/반복문에 사용됨\n",
    "        - 300 > 200 => True\n",
    "        - 150 == 161 => False\n",
    "        "
   ]
  },
  {
   "cell_type": "code",
   "execution_count": null,
   "metadata": {},
   "outputs": [],
   "source": [
    "height = 175 # int\n",
    "\n",
    "name = \"seungho\" # str\n",
    "\n",
    "boolean = 300 > 200 # True\n",
    "\n",
    "print(height, name, boolean)"
   ]
  },
  {
   "cell_type": "markdown",
   "metadata": {},
   "source": [
    "리스트(list) : 여러개의 연속된 값을 저장할 수 있는 저장 공간"
   ]
  },
  {
   "cell_type": "code",
   "execution_count": null,
   "metadata": {},
   "outputs": [],
   "source": [
    "lunch = [\"돼지불백\", \"지코바치밥\", \"설렁탕\"]\n",
    "\n",
    "print(lunch[2])"
   ]
  },
  {
   "cell_type": "markdown",
   "metadata": {},
   "source": [
    "딕셔너리(Dictionary) : 이름표를 단 여러개의 값을 저장할 수 있는 저장공간"
   ]
  },
  {
   "cell_type": "code",
   "execution_count": null,
   "metadata": {},
   "outputs": [],
   "source": [
    "seungho = { \"name\" : \"seungho\", \"ssafy\" : \"10th\", \"country\" : \"Korea\"}\n",
    "\n",
    "print(seungho[\"name\"], seungho[\"country\"])"
   ]
  },
  {
   "cell_type": "markdown",
   "metadata": {},
   "source": [
    "## 2. 조건문\n",
    "\n",
    "만약 ☆☆ 이라면\n",
    "    ○○ 해줘\n",
    "아니라면\n",
    "    ◇◇ 해줘\n",
    "\n",
    "==>\n",
    "\n",
    "if ☆☆:\n",
    "    ○○\n",
    "else:\n",
    "    ◇◇\n"
   ]
  },
  {
   "cell_type": "code",
   "execution_count": 15,
   "metadata": {},
   "outputs": [
    {
     "name": "stdout",
     "output_type": "stream",
     "text": [
      "50 이하\n"
     ]
    }
   ],
   "source": [
    "dust = 50\n",
    "\n",
    "if dust > 50:\n",
    "    print(\"50 초과\")\n",
    "else:\n",
    "    print(\"50 이하\")"
   ]
  },
  {
   "cell_type": "markdown",
   "metadata": {},
   "source": [
    "만약 ☆☆ 이라면\n",
    "    ○○ 해줘\n",
    "그게 아니라 □□ 이면\n",
    "    △△ 해줘\n",
    "아니라면\n",
    "    ◇◇ 해줘\n",
    "\n",
    "==>\n",
    "\n",
    "if ☆☆:\n",
    "    ○○\n",
    "elif □□:\n",
    "    △△\n",
    "else:\n",
    "    ◇◇\n",
    "\n",
    "만약 미세먼지농도(dust)가 150보다 크다면\n",
    "\"매우나쁨\"을 출력해줘\n",
    "그게 아니라 미세먼지농도가 150이하 80초과라면\n",
    "\"나쁨\"을 출력해줘\n",
    "모두 아니라면\n",
    "\"좋음\"을 출력해줘"
   ]
  },
  {
   "cell_type": "code",
   "execution_count": 22,
   "metadata": {},
   "outputs": [
    {
     "name": "stdout",
     "output_type": "stream",
     "text": [
      "보통\n"
     ]
    }
   ],
   "source": [
    "dust = 50\n",
    "\n",
    "if dust > 150:\n",
    "    print(\"매우나쁨\")\n",
    "elif dust > 80:\n",
    "    print(\"나쁨\")\n",
    "elif dust > 30:\n",
    "    print(\"보통\")\n",
    "else:\n",
    "    print(\"좋음\")"
   ]
  },
  {
   "cell_type": "markdown",
   "metadata": {},
   "source": [
    "## 3. 반복문\n",
    "\n",
    "**while**\n",
    "\n",
    "만약 ☆☆ 이라면\n",
    "계속 □□ 해줘\n",
    "\n",
    "while ☆☆:\n",
    "    □□\n",
    "\n",
    "\n",
    "```\n",
    "n = 0\n",
    "\n",
    "만약 n이 3보다 작다면\n",
    "계속 n을 출력하고,\n",
    "n에 1을 더해줘\n",
    "```"
   ]
  },
  {
   "cell_type": "code",
   "execution_count": 31,
   "metadata": {},
   "outputs": [
    {
     "name": "stdout",
     "output_type": "stream",
     "text": [
      "hello\n",
      "hello\n",
      "hello\n"
     ]
    }
   ],
   "source": [
    "n = 0\n",
    "\n",
    "while n < 3:\n",
    "    print(\"hello\")\n",
    "    n = n + 1"
   ]
  },
  {
   "cell_type": "markdown",
   "metadata": {},
   "source": [
    "**For**\n",
    "\n",
    "여러개의 값을 저장하는 변수에서 반복하여 값을 꺼내서 사용\n",
    "\n",
    "☆☆에 있는 ○○를 이용해서\n",
    "□□ 해줘\n",
    "\n",
    "for ○○ in ☆☆:\n",
    "    □□"
   ]
  },
  {
   "cell_type": "code",
   "execution_count": null,
   "metadata": {},
   "outputs": [],
   "source": [
    "lunch = [\"돼지불백\", \"지코바치밥\", \"설렁탕\"]\n",
    "\n",
    "for menu in lunch:\n",
    "    print(menu)"
   ]
  },
  {
   "cell_type": "markdown",
   "metadata": {},
   "source": [
    "### while vs for\n",
    "\n",
    "while => 조건이 True인 동안 반복적으로 실행되기에 종료조건이 반드시 필요\n",
    "\n",
    "for => 정해진 범위를 반복하기에 종료조건이 필요없음"
   ]
  },
  {
   "cell_type": "markdown",
   "metadata": {},
   "source": [
    "**함수**\n",
    "\n",
    "input => FUNCTION => output\n",
    "\n",
    "어떤 기능을 하는 코드를 모아 놓은 것\n",
    "\n",
    "```\n",
    "print(\"hello\")\n",
    "```\n",
    "\n",
    "**모듈 사용**\n",
    "\n",
    "1. 함수가 포함된 파일을 불러와서 사용 (import)\n",
    "    - random 모듈"
   ]
  },
  {
   "cell_type": "code",
   "execution_count": null,
   "metadata": {},
   "outputs": [],
   "source": [
    "import random\n",
    "\n",
    "lunch = [\"돼지불백\", \"지코바치밥\", \"설렁탕\"]\n",
    "\n",
    "print(random.choice(lunch))\n",
    "\n",
    "numbers = [1,2,3,4,5,6,7,8,9,10]\n",
    "\n",
    "pick = random.sample(numbers, 3)\n",
    "\n",
    "print(sorted(pick))"
   ]
  },
  {
   "cell_type": "code",
   "execution_count": null,
   "metadata": {},
   "outputs": [],
   "source": [
    "# 구구단 (2단 ~ 9단)\n",
    "\n",
    "for i in range(2, 10): # range(1,10) 1이상 10미만의 숫자 모음을 만들어 준다.\n",
    "    print(f\"=={i} 단==\")\n",
    "    for j in range(1, 10):\n",
    "        print(f\"{i} * {j} = {i * j:>2}\")"
   ]
  },
  {
   "cell_type": "code",
   "execution_count": null,
   "metadata": {},
   "outputs": [],
   "source": [
    "# 로또 자동추첨기\n",
    "\n",
    "# 로또의 번호 범위는 1~45\n",
    "# 6개의 숫자를 뽑아서 출력하는 코드\n",
    "\n",
    "import random\n",
    "\n",
    "lotto = range(1, 46)\n",
    "\n",
    "# pick = random.sample(lotto, 6)\n",
    "\n",
    "# print(\"금주의 로또번호는 {0} 입니다.\".format(sorted(pick)))\n",
    "\n",
    "lotto_nums = random.sample(lotto, 6)\n",
    "\n",
    "print(*sorted(lotto_nums))"
   ]
  }
 ],
 "metadata": {
  "kernelspec": {
   "display_name": "Python 3",
   "language": "python",
   "name": "python3"
  },
  "language_info": {
   "codemirror_mode": {
    "name": "ipython",
    "version": 3
   },
   "file_extension": ".py",
   "mimetype": "text/x-python",
   "name": "python",
   "nbconvert_exporter": "python",
   "pygments_lexer": "ipython3",
   "version": "3.9.13"
  },
  "orig_nbformat": 4
 },
 "nbformat": 4,
 "nbformat_minor": 2
}
