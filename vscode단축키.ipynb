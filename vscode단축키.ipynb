{
 "cells": [
  {
   "cell_type": "markdown",
   "metadata": {},
   "source": [
    "- ctrl + shipf + p, F1 = command palette\n",
    "- ctrl + P = quick open\n",
    "- ctrl + , = user settings\n",
    "- ctrl + B = toggle sidebar\n",
    "- ctrl + ` = toggle terminal\n",
    "- ctrl + k + s = keyboard shortcuts\n",
    "- ctrl + home / ctrl + end = beginnig / end of line\n",
    "- ctrl + shift + <- / -> = select word\n",
    "- alt + ↓ / ↑= move line down / up\n",
    "- shift + alt + ↓ / ↑ = copy line down / up\n",
    "- ctrl + enter = insert line below\n",
    "- ctrl + d = multi selection\n",
    "- ctrl + u = undo last cursor\n",
    "- alt + click = insert cursor\n",
    "- shift + alt + drag mouse = coulmn (box) selection\n",
    "- shift + alt + i = current selection\n",
    "\n",
    "@ kite : 코드 자동완성 기능 제공"
   ]
  },
  {
   "cell_type": "code",
   "execution_count": 2,
   "metadata": {},
   "outputs": [
    {
     "name": "stdout",
     "output_type": "stream",
     "text": [
      "44032\n",
      "chr(ac00) => '가'\n"
     ]
    }
   ],
   "source": [
    "# hex: 10 -> 16 , ord: 문자 -> 10 , chr: 10 -> 문자\n",
    "val = 0xac00 # 0x는 16진수를 나타내는 접두사\n",
    "print(val) # 10진수 44032에 해당하는 값 저장\n",
    "print(\"chr({0:x}) => '{1}'\".format(val, chr(val))) # {0:x} 는 16진수 포맷을 의미"
   ]
  }
 ],
 "metadata": {
  "kernelspec": {
   "display_name": "Python 3",
   "language": "python",
   "name": "python3"
  },
  "language_info": {
   "codemirror_mode": {
    "name": "ipython",
    "version": 3
   },
   "file_extension": ".py",
   "mimetype": "text/x-python",
   "name": "python",
   "nbconvert_exporter": "python",
   "pygments_lexer": "ipython3",
   "version": "3.11.4"
  },
  "orig_nbformat": 4
 },
 "nbformat": 4,
 "nbformat_minor": 2
}
