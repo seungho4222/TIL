{
 "cells": [
  {
   "cell_type": "markdown",
   "metadata": {},
   "source": [
    "#### :snowman:Web공부시 mdn 입력해서 해당 공식 사이트에서 찾아보기"
   ]
  },
  {
   "cell_type": "markdown",
   "metadata": {},
   "source": [
    "- World Wide Web : 인터넷으로 연결된 컴퓨터들이 정보를 공유하는 거대한 정보 공간\n",
    "- Web : Web site, Web application 등을 통해 사용자들이 정보를 검색하고 상호 작용하는 기술\n",
    "- Web site : 인터넷에서 여러 개의 Web page가 모인 것으로, 사용자들에게 정보나 서비스를 제공하는 공간\n",
    "- Web page : HTML, CSS 등의 웹 기술을 이용하여 만들어진, \"Web site\"를 구성하는 하나의 요소\n",
    "- HTML(HyperText Markup Language) : 웹 페이지의 의미와 구조를 정의하는 언어\n",
    "- HYpertext : 웹 페이지를 다른 페이지로 연결하는 링크\n",
    "- Markup Language : 태그 등을 이용하여 문서나 데이터의 구조를 명시하는 언어\n",
    "    - ex) HTML, Markdown"
   ]
  },
  {
   "cell_type": "markdown",
   "metadata": {},
   "source": [
    "- HTML의 주요 목적 중 하나는 텍스트 구조와 의미를 제공하는 것\n",
    "- HTML : 웹 페이지의 의미와 구조를 정의하는 언어"
   ]
  },
  {
   "cell_type": "markdown",
   "metadata": {},
   "source": [
    "- CSS(Cascading Style Sheet) : 웹 페이지의 디자인과 레이아웃을 구성하는 언어\n",
    "- CSS 구문\n",
    "    - 선택자(Selector) : HTML 요소를 선택하여 스타일을 적용할 수 있도록 하는 선택자\n",
    "        - 클래스 선택자(!!) : 주어진 클래스 속성을 가진 모든 요소를 선택\n",
    "        - 자손 결합자(\" \") : 첫 번째 요소의 자손 요소들 선택\n",
    "            - 예) p span은 <P> 안에 있는 모든 <span>를 선택(하위레벨 상관없이)\n",
    "        - 자식 결합자(\">\") : 첫 번째 요소의 직계 자식만 선택\n",
    "            - 예) ul > li은 <ul>안에 있는 모든 <li>를 선택(한단계 아래만)\n",
    "        - 일반 형제 결합자(former-element ~ target-element)\n",
    "            - 첫 번째 요소를 뒤따르면서 같은 부모를 공유하는 두번째 요소 모두 선택\n",
    "        - 인접 형제 결합자(former-element + target-element)\n",
    "            - 첫 번째 요소 바로 뒤에 위치하면서 같은 부모를 공유한느 두번째 요소 선택\n",
    "    - 선언(Declaration)\n",
    "    - 속성(Property)\n",
    "    - 값(Value)\n",
    "- CSS 적용방법\n",
    "    - 인라인(Inline) 스타일 : HTML 요소 안에 style 속성 값으로 작성\n",
    "    - 내부(Internal) 스타일 시트 : head 태그 안에 style 태그에 작성\n",
    "    - 외부(External) 스타일 시트 : 별도의 css파일 생성 후 HTML link태그로 불러오기"
   ]
  },
  {
   "cell_type": "markdown",
   "metadata": {},
   "source": [
    "- Specificity(우선순위) : 동일한 요소에 적용 가능한 같은 스타일을 두 가지 이상 작성 했을 때 어떤 규칙이 적용 되는지 결정하는 것"
   ]
  }
 ],
 "metadata": {
  "language_info": {
   "name": "python"
  },
  "orig_nbformat": 4
 },
 "nbformat": 4,
 "nbformat_minor": 2
}
