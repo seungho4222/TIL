{
 "cells": [
  {
   "cell_type": "markdown",
   "metadata": {},
   "source": [
    "### :butterfly: Data Structure"
   ]
  },
  {
   "cell_type": "code",
   "execution_count": 3,
   "metadata": {},
   "outputs": [
    {
     "name": "stdout",
     "output_type": "stream",
     "text": [
      "False\n"
     ]
    }
   ],
   "source": [
    "a = \"Hello world\"\n",
    "print(a.istitle())"
   ]
  },
  {
   "cell_type": "code",
   "execution_count": 15,
   "metadata": {},
   "outputs": [
    {
     "name": "stdout",
     "output_type": "stream",
     "text": [
      "banana\n",
      "bznzna\n"
     ]
    }
   ],
   "source": [
    "a = \"banana\"\n",
    "print(a)\n",
    "print(a.replace('a', 'z', 2))"
   ]
  },
  {
   "cell_type": "code",
   "execution_count": 23,
   "metadata": {},
   "outputs": [
    {
     "name": "stdout",
     "output_type": "stream",
     "text": [
      "Section 3.2.1 Issue #32\n"
     ]
    }
   ],
   "source": [
    "comment_string = '#....... Section 3.2.1 Issue #32 .......'\n",
    "print(comment_string.strip('.#! '))"
   ]
  },
  {
   "cell_type": "code",
   "execution_count": 13,
   "metadata": {},
   "outputs": [
    {
     "name": "stdout",
     "output_type": "stream",
     "text": [
      "['a', 'b', 'c d']\n"
     ]
    }
   ],
   "source": [
    "a = \"a b c d\"\n",
    "print(a.split(' ',2))"
   ]
  },
  {
   "cell_type": "code",
   "execution_count": 17,
   "metadata": {},
   "outputs": [
    {
     "name": "stdout",
     "output_type": "stream",
     "text": [
      "b-e-s-t\n"
     ]
    }
   ],
   "source": [
    "a = ['b', 'e', 's', 't']\n",
    "print('-'.join(a))"
   ]
  },
  {
   "cell_type": "code",
   "execution_count": 22,
   "metadata": {},
   "outputs": [
    {
     "name": "stdout",
     "output_type": "stream",
     "text": [
      "[0, 1, 1, 2, 3, 5, 8, 13, 21, 34, 55, 89, 144, 233, 377, 610, 987]\n"
     ]
    }
   ],
   "source": [
    "# 피보나치\n",
    "fibonacci = []\n",
    "a, b = 0, 1\n",
    "while a < 1000:\n",
    "    fibonacci.append(a)\n",
    "    a, b = b, a + b\n",
    "print(fibonacci)"
   ]
  },
  {
   "cell_type": "code",
   "execution_count": 29,
   "metadata": {},
   "outputs": [
    {
     "name": "stdout",
     "output_type": "stream",
     "text": [
      "1\n",
      "3\n"
     ]
    }
   ],
   "source": [
    "a = [1, 2, 1, 2, 1, 2, 1]\n",
    "print(a.index(2))\n",
    "print(a.index(2, 2))"
   ]
  },
  {
   "cell_type": "code",
   "execution_count": 2,
   "metadata": {},
   "outputs": [
    {
     "name": "stdout",
     "output_type": "stream",
     "text": [
      "1\n",
      "{2, 4, 5}\n",
      "{2, 4, 5}\n",
      "d\n"
     ]
    }
   ],
   "source": [
    "a = {1, 2, 3, 4, 5}\n",
    "print(a.pop())\n",
    "a.remove(3)\n",
    "print(a)\n",
    "a.discard(6)\n",
    "print(a)\n",
    "b = {'a', 'b', 'c', 'd'}\n",
    "print(b.pop())"
   ]
  },
  {
   "cell_type": "code",
   "execution_count": 20,
   "metadata": {},
   "outputs": [
    {
     "name": "stdout",
     "output_type": "stream",
     "text": [
      "Korea\n",
      "{'name': 'Alice', 'age': 25, 'country': 'Korea'}\n",
      "None\n",
      "{'name': 'Alice', 'age': 25, 'country': 'Korea', 'job': None}\n"
     ]
    }
   ],
   "source": [
    "a = {'name': 'Alice', 'age': 25}\n",
    "print(a.setdefault('country', 'Korea'))\n",
    "print(a)\n",
    "print(a.setdefault('job'))\n",
    "print(a)"
   ]
  },
  {
   "cell_type": "code",
   "execution_count": 23,
   "metadata": {},
   "outputs": [
    {
     "name": "stdout",
     "output_type": "stream",
     "text": [
      "{'name': 'Alice', 'age': 30}\n",
      "{'name': 'Alice', 'age': 30, 'country': 'Korea'}\n"
     ]
    }
   ],
   "source": [
    "a = {'name': 'Alice', 'age': 25}\n",
    "a.update(age=30)\n",
    "print(a)\n",
    "a.update(country='Korea')\n",
    "print(a)"
   ]
  },
  {
   "cell_type": "code",
   "execution_count": 25,
   "metadata": {},
   "outputs": [
    {
     "name": "stdout",
     "output_type": "stream",
     "text": [
      "[1, 2, [1, 2]] [1, 2, [1, 2]]\n",
      "[1, 2, [1, 2]] [100, 2, [1, 2]]\n",
      "[1, 2, [100, 2]] [100, 2, [100, 2]]\n"
     ]
    }
   ],
   "source": [
    "a = [1, 2, [1, 2]]\n",
    "b = a[:]\n",
    "print(a, b)\n",
    "b[0] = 100\n",
    "print(a, b)\n",
    "b[2][0] = 100\n",
    "print(a, b)"
   ]
  },
  {
   "cell_type": "code",
   "execution_count": 44,
   "metadata": {},
   "outputs": [
    {
     "name": "stdout",
     "output_type": "stream",
     "text": [
      "2023-07-29 16:27:44.581198\n",
      "main function 1 start\n",
      "2023-07-29 16:27:44.581198\n"
     ]
    }
   ],
   "source": [
    "import datetime\n",
    "\n",
    "def datetime_decorator(func):\n",
    "    def decorated():\n",
    "        print(datetime.datetime.now())\n",
    "        func()\n",
    "        print(datetime.datetime.now())\n",
    "    return decorated\n",
    "\n",
    "@datetime_decorator\n",
    "def main_f_1():\n",
    "    print('main function 1 start')\n",
    "\n",
    "main_f_1()"
   ]
  },
  {
   "cell_type": "code",
   "execution_count": null,
   "metadata": {},
   "outputs": [],
   "source": [
    "import datetime\n",
    "\n",
    "class DatetimeDecorator:\n",
    "    def __init__(self, f):\n",
    "        self.func = f\n",
    "\n",
    "    def __call__(self):\n",
    "        print(datetime.datetime.now())\n",
    "        self.func()\n",
    "        print(datetime.datetime.now())\n",
    "\n",
    "class MainClass:\n",
    "    @DatetimeDecorator\n",
    "    def main_f_1():\n",
    "        print('main function 1 start')\n",
    "\n",
    "    @DatetimeDecorator\n",
    "    def main_f_2():\n",
    "        print('main function 2 start')\n",
    "\n",
    "    @DatetimeDecorator\n",
    "    def main_f_3():\n",
    "        print('main function 3 start')\n",
    "\n",
    "my = MainClass()\n",
    "\n",
    "my.main_f_1()\n",
    "my.main_f_2()\n",
    "my.main_f_3()"
   ]
  },
  {
   "cell_type": "code",
   "execution_count": 17,
   "metadata": {},
   "outputs": [
    {
     "name": "stdout",
     "output_type": "stream",
     "text": [
      "9\n",
      "0\n"
     ]
    }
   ],
   "source": [
    "a = [1, 2, 3]\n",
    "b = []\n",
    "\n",
    "print(sum(a,start=3))   # iterable + 두번째 인자값\n",
    "print(sum(b))           # 두번째 인자값 기본이 0"
   ]
  },
  {
   "cell_type": "code",
   "execution_count": 26,
   "metadata": {},
   "outputs": [
    {
     "name": "stdout",
     "output_type": "stream",
     "text": [
      "[1, 2]\n"
     ]
    }
   ],
   "source": [
    "import random\n",
    "a = [1, 2, 3]\n",
    "# print(random.sample(1, 2))\n",
    "print(random.sample(a, 2))"
   ]
  }
 ],
 "metadata": {
  "kernelspec": {
   "display_name": "Python 3",
   "language": "python",
   "name": "python3"
  },
  "language_info": {
   "codemirror_mode": {
    "name": "ipython",
    "version": 3
   },
   "file_extension": ".py",
   "mimetype": "text/x-python",
   "name": "python",
   "nbconvert_exporter": "python",
   "pygments_lexer": "ipython3",
   "version": "3.11.4"
  },
  "orig_nbformat": 4
 },
 "nbformat": 4,
 "nbformat_minor": 2
}
