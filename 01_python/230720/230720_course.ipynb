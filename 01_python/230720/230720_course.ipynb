{
 "cells": [
  {
   "cell_type": "markdown",
   "metadata": {},
   "source": [
    "## Control of flow (제어문)"
   ]
  },
  {
   "cell_type": "code",
   "execution_count": 57,
   "metadata": {},
   "outputs": [
    {
     "name": "stdout",
     "output_type": "stream",
     "text": [
      "홀수입니다.\n",
      "홀수\n"
     ]
    }
   ],
   "source": [
    "num = int(input(\"숫자를 입력하세요 : \"))\n",
    "\n",
    "# if statement\n",
    "# num이 홀수라면\n",
    "if num % 2 == 1:\n",
    "# if num % 2:\n",
    "    print(\"홀수입니다.\")\n",
    "\n",
    "# num이 홀수라면 아니라면(짝수면)\n",
    "else:\n",
    "    print(\"짝수입니다.\")\n",
    "\n",
    "str = \"짝수\" if num % 2 == 0 else \"홀수\"\n",
    "print(str)"
   ]
  },
  {
   "cell_type": "code",
   "execution_count": 12,
   "metadata": {},
   "outputs": [
    {
     "name": "stdout",
     "output_type": "stream",
     "text": [
      "[8, 12, 20, -16, 10]\n"
     ]
    }
   ],
   "source": [
    "numbers = [4, 6, 10, -8, 5]\n",
    "\n",
    "for i in range(len(numbers)):\n",
    "    numbers[i] = numbers[i] * 2\n",
    "\n",
    "print(numbers)"
   ]
  },
  {
   "cell_type": "code",
   "execution_count": 66,
   "metadata": {},
   "outputs": [
    {
     "name": "stdout",
     "output_type": "stream",
     "text": [
      "b!\n"
     ]
    }
   ],
   "source": [
    "# else 문은 반복문을 실행한 이후에 실행합니다.\n",
    "# 반복문이 break문으로 종료될때는 else 문이 실행되지 않습니다.\n",
    "# break를 통해 중간에 종료되지 않은 경우만 else 문이 실행된다.\n",
    "# 반복문이 중간에 종료된 적이 있는지를 검사할때 유용하게 사용\n",
    "\n",
    "string1 = \"apple\"\n",
    "string2 = \"banana\"\n",
    "\n",
    "for c in string2:\n",
    "    if c == \"b\":\n",
    "        print(\"b!\")\n",
    "        break\n",
    "else:\n",
    "    print(\"이 단어 안에는 b가 없습니다.\")"
   ]
  },
  {
   "cell_type": "code",
   "execution_count": null,
   "metadata": {},
   "outputs": [],
   "source": [
    "for num in range(1,11):\n",
    "    if num % 2 == 1:\n",
    "        continue    # 2 4 6 8 10 \n",
    "        # pass      # 1 2 3 4 5 6 7 8 9 10\n",
    "    print(num, end=\" \")"
   ]
  },
  {
   "cell_type": "code",
   "execution_count": 68,
   "metadata": {},
   "outputs": [
    {
     "name": "stdout",
     "output_type": "stream",
     "text": [
      "[1, 3, 5, 7, 9]\n",
      "[1, 3, 5, 7, 9]\n"
     ]
    }
   ],
   "source": [
    "# 0~9 요소를 가지는 리스트 만들기\n",
    "# 1. 일반적인 방법\n",
    "new_list = []\n",
    "for i in range(10):\n",
    "    if i % 2 == 1:\n",
    "        new_list.append(i)\n",
    "print(new_list)\n",
    "\n",
    "# 2. list comprehension\n",
    "new_list_2 = [i for i in range(10) if i % 2 == 1]\n",
    "print(new_list_2)"
   ]
  },
  {
   "cell_type": "code",
   "execution_count": null,
   "metadata": {},
   "outputs": [],
   "source": [
    "my_dict = {i: i**2 for i in range(1, 10)}\n",
    "print(my_dict)  # {1: 1, 2: 4, 3: 9, 4: 16, 5: 25, 6: 36, 7: 49, 8: 64, 9: 81}"
   ]
  },
  {
   "cell_type": "code",
   "execution_count": 76,
   "metadata": {},
   "outputs": [
    {
     "name": "stdout",
     "output_type": "stream",
     "text": [
      "brown : 100 100\n",
      "red : 80 80\n",
      "blue : 70 70\n",
      "brown : 100 100\n",
      "red : 80 80\n",
      "blue : 70 70\n",
      "---------------------\n",
      "100\n",
      "80\n",
      "70\n",
      "brown : 100\n",
      "red : 80\n",
      "blue : 70\n"
     ]
    }
   ],
   "source": [
    "scores = {\"brown\": 100, \"red\": 80, \"blue\": \"70\"}\n",
    "\n",
    "# 1. 기본적으로 key 만 가져감\n",
    "for name in scores:\n",
    "    print(f'{name} : {scores[name]} {scores.get(name)}')\n",
    "\n",
    "# 2.\n",
    "for name in scores.keys():\n",
    "    print(f'{name} : {scores[name]} {scores.get(name)}')\n",
    "print(\"---------------------\")\n",
    "# 3.\n",
    "for score in scores.values():\n",
    "    print(score)\n",
    "\n",
    "# 4.\n",
    "for key, value in scores.items():\n",
    "    print(f'{key} : {value}')"
   ]
  },
  {
   "cell_type": "code",
   "execution_count": null,
   "metadata": {},
   "outputs": [],
   "source": [
    "# 리스트를 생성하는 3가지 방법 비교\n",
    "# 정수 1,2,3을 가지는 새로운 리스트 만들기\n",
    "# 어떤게 제일 빨라요?\n",
    "\n",
    "numbers = [1, 2, 3]\n",
    "\n",
    "# 1. for loop\n",
    "new_numbers = []\n",
    "for number in numbers:\n",
    "    new_numbers.append(int(number))\n",
    "print(new_numbers)  # [1, 2 ,3]\n",
    "\n",
    "# 2. map\n",
    "new_numbers_2 = list(map(int, numbers))\n",
    "print(new_numbers_2)    # [1, 2, 3]\n",
    "\n",
    "# 3. list comprehension\n",
    "new_numbers_3 = [int(number) for number in numbers]\n",
    "print(new_numbers_3)    # [1, 2, 3]"
   ]
  },
  {
   "cell_type": "code",
   "execution_count": 55,
   "metadata": {},
   "outputs": [
    {
     "name": "stdout",
     "output_type": "stream",
     "text": [
      "<enumerate object at 0x000001F0B5C07500>\n",
      "{1: 'a', 2: 'b', 3: 'c'}\n"
     ]
    }
   ],
   "source": [
    "# enumerate\n",
    "result = ['a', 'b', 'c']\n",
    "\n",
    "print(enumerate(result, start=1))   # <enumerate object at 0x000001F0B5C07500>\n",
    "print(dict(enumerate(result, start=1)))    # {1: 'a', 2: 'b', 3: 'c'}"
   ]
  },
  {
   "cell_type": "code",
   "execution_count": 47,
   "metadata": {},
   "outputs": [
    {
     "name": "stdout",
     "output_type": "stream",
     "text": [
      "#3 30\n"
     ]
    }
   ],
   "source": [
    "test_case = int(input())\n",
    "\n",
    "for count in range(test_case):  # 케이스 반복 횟수\n",
    "    case_count = input().split(\" \")     # 케이스별 a, b의 숫자열 개수\n",
    "\n",
    "    a = input().split(\" \")  # 숫자열 공백구분으로 입력\n",
    "    b = input().split(\" \")  # 숫자열 공백구분으로 입력\n",
    "\n",
    "    if len(a) > len(b):     # a의 숫자열이 긴 경우\n",
    "        result = []     # 마주보는 수를 곱하고 그 값들을 모두 더한 값 리스트\n",
    "        for i in range(len(a) - len(b) + 1):    # 숫자열 차이별 반복횟수\n",
    "            case_zip = list(zip(a, b))\n",
    "            \n",
    "            zip_times = []\n",
    "            for times in case_zip:\n",
    "                zip_times.append(int(times[0]) * int(times[1]))     # 마주보는 수 곱한 값 리스트 추가\n",
    "\n",
    "            result.append(sum(zip_times))       # 마주보는 수 곱한 값들을 더한 값 리스트 추가\n",
    "            a.pop(0)    # 긴숫자열의 0번 인덱스를 삭제후 위 과정 반복\n",
    "        print(f'#{count + 1} {max(result)}')    # 반복 결과 max값 도출\n",
    "\n",
    "    else:       # # b의 숫자열이 긴 경우\n",
    "        result = []\n",
    "        for i in range(len(b) - len(a) + 1):\n",
    "            case_zip = list(zip(a, b))\n",
    "            \n",
    "            zip_times = []\n",
    "            for times in case_zip:\n",
    "                zip_times.append(int(times[0]) * int(times[1]))\n",
    "\n",
    "            result.append(sum(zip_times))\n",
    "            b.pop(0)\n",
    "        print(f'#{count + 1} {max(result)}')\n",
    "    "
   ]
  }
 ],
 "metadata": {
  "kernelspec": {
   "display_name": "Python 3",
   "language": "python",
   "name": "python3"
  },
  "language_info": {
   "codemirror_mode": {
    "name": "ipython",
    "version": 3
   },
   "file_extension": ".py",
   "mimetype": "text/x-python",
   "name": "python",
   "nbconvert_exporter": "python",
   "pygments_lexer": "ipython3",
   "version": "3.9.13"
  },
  "orig_nbformat": 4
 },
 "nbformat": 4,
 "nbformat_minor": 2
}
