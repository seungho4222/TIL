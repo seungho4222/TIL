{
 "cells": [
  {
   "cell_type": "code",
   "execution_count": null,
   "metadata": {},
   "outputs": [],
   "source": [
    "class Person:\n",
    "    def __init__(self, name, age):\n",
    "        self.name = name\n",
    "        self.age = age\n",
    "\n",
    "    def talk(self):\n",
    "        print(f'안녕, {self.name}입니다.')\n",
    "    \n",
    "class Professor(Person):\n",
    "\n",
    "    def __init__(self, name, age, department):\n",
    "        # Person.__init__(self, name, age)\n",
    "        super().__init__(name, age)\n",
    "        self.department = department\n",
    "\n",
    "class Student(Person):\n",
    "\n",
    "    def __init__(self, name, age, gpa):\n",
    "        super().__init__(name, age)\n",
    "        self.gpa = gpa\n",
    "\n",
    "p1 = Professor('박교수', 49, '컴공')\n",
    "s1 = Student('김학생', 20, 3.5)\n",
    "\n",
    "print(p1.name)\n",
    "print(s1.name)"
   ]
  },
  {
   "cell_type": "code",
   "execution_count": 80,
   "metadata": {},
   "outputs": [
    {
     "name": "stdout",
     "output_type": "stream",
     "text": [
      "[<class '__main__.FirstChild'>, <class '__main__.Mom'>, <class '__main__.Dad'>, <class '__main__.Person'>, <class 'object'>]\n",
      "person init\n",
      "dad init\n",
      "mom init\n"
     ]
    }
   ],
   "source": [
    "class Person:\n",
    "    def __init__(self, name):\n",
    "        self.name = name\n",
    "        print('person init')\n",
    "\n",
    "    def greeting(self):\n",
    "        return f'안녕, {self.name}'\n",
    "    \n",
    "\n",
    "class Mom(Person):\n",
    "    gene = 'XX'\n",
    "\n",
    "    def __init__(self, name, age):\n",
    "        super().__init__(name)\n",
    "        self.age = age\n",
    "        print('mom init')\n",
    "\n",
    "    def swim(self):\n",
    "        return '엄마가 수영'\n",
    "    \n",
    "class Dad(Person):\n",
    "    gene = 'XY'\n",
    "\n",
    "    def __init__(self, name):\n",
    "        super().__init__(name)\n",
    "        print('dad init')\n",
    "\n",
    "    def walk(self):\n",
    "        return '아빠가 걷기'\n",
    "    \n",
    "\n",
    "class FirstChild(Mom, Dad):\n",
    "\n",
    "    def __init__(self, name, age):\n",
    "        super().__init__(name, age)\n",
    "\n",
    "    def swim(self):\n",
    "        return '첫째가 수영'\n",
    "    \n",
    "    def cry(self):\n",
    "        return '첫째가 응애'\n",
    "    \n",
    "\n",
    "print(FirstChild.mro()) #: Method Resolution Order, 해당 인스턴스의 클래스의 부모 클래스 확인\n",
    "# print(FirstChild.mro())\n",
    "\n",
    "baby1 = FirstChild('아가', 3)\n",
    "\n",
    "# print(baby1.name)\n",
    "# print(baby1.greeting())\n",
    "# print(baby1.swim())\n",
    "# print(baby1.walk())\n",
    "# print(baby1.gene)"
   ]
  },
  {
   "cell_type": "code",
   "execution_count": 40,
   "metadata": {},
   "outputs": [
    {
     "name": "stdout",
     "output_type": "stream",
     "text": [
      "탈출\n"
     ]
    }
   ],
   "source": [
    "# 미로 탈출\n",
    "\n",
    "n = [[1, 3, 1, 0, 1], [1, 0, 1, 0, 1], [1, 0, 1, 0, 1], \n",
    "     [1, 0, 1, 0, 1], [1, 0, 0, 2, 1]]\n",
    "\n",
    "stack = []\n",
    "\n",
    "def maze():\n",
    "    while stack:\n",
    "        x, y = stack.pop(-1)\n",
    "        n[x][y] = -1\n",
    "        for i in range(4):\n",
    "            mi = x + ni[i]\n",
    "            mj = y + nj[i]\n",
    "            if 0 <= mi < len(n) and 0 <= mj < len(n):\n",
    "                if n[mi][mj] == 3:\n",
    "                    return '탈출'\n",
    "                elif n[mi][mj] == 0:\n",
    "                    stack.append((mi, mj))\n",
    "    return '갖혔다'\n",
    "\n",
    "\n",
    "for i in range(len(n)):\n",
    "    for j in range(len(n)):\n",
    "        if n[i][j] == 2:\n",
    "            stack.append((i,j))\n",
    "            break\n",
    "\n",
    "ni = (0, 1, 0, -1)\n",
    "nj = (1, 0, -1, 0)\n",
    "\n",
    "print(maze())"
   ]
  }
 ],
 "metadata": {
  "kernelspec": {
   "display_name": "Python 3",
   "language": "python",
   "name": "python3"
  },
  "language_info": {
   "codemirror_mode": {
    "name": "ipython",
    "version": 3
   },
   "file_extension": ".py",
   "mimetype": "text/x-python",
   "name": "python",
   "nbconvert_exporter": "python",
   "pygments_lexer": "ipython3",
   "version": "3.9.13"
  },
  "orig_nbformat": 4
 },
 "nbformat": 4,
 "nbformat_minor": 2
}
