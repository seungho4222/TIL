{
 "cells": [
  {
   "cell_type": "code",
   "execution_count": 102,
   "metadata": {},
   "outputs": [
    {
     "name": "stdout",
     "output_type": "stream",
     "text": [
      "('lalala', 'singer', 'newbie')\n",
      "('oh my oh my god', 'hype boy', 'singer', 'Newjeans')\n",
      "('strawberry moon', 30, 'singer', 'IU')\n"
     ]
    }
   ],
   "source": [
    "class Singer:\n",
    "    def __init__(self, name):\n",
    "        self.name = name\n",
    "    \n",
    "    def sing(self):\n",
    "        return \"lalala\"\n",
    "    \n",
    "    @classmethod\n",
    "    def job(cls):\n",
    "        return \"singer\"\n",
    "\n",
    "\n",
    "class Newjeans(Singer):\n",
    "    def sing(self):\n",
    "        return \"oh my oh my god\"\n",
    "    \n",
    "    def dance(self):\n",
    "        return \"hype boy\"\n",
    "    \n",
    "\n",
    "class Iu(Singer):\n",
    "    def sing(self):\n",
    "        return \"strawberry moon\"\n",
    "    \n",
    "    def age(self):\n",
    "        return 30\n",
    "\n",
    "\n",
    "who = Singer('newbie')\n",
    "nj = Newjeans('Newjeans')\n",
    "iu = Iu('IU')\n",
    "\n",
    "a = who.sing(), who.job(), who.name\n",
    "b = nj.sing(), nj.dance(), nj.job(), nj.name\n",
    "c = iu.sing(), iu.age(), iu.job(), iu.name\n",
    "\n",
    "print(a)\n",
    "print(b)\n",
    "print(c)"
   ]
  },
  {
   "cell_type": "code",
   "execution_count": null,
   "metadata": {},
   "outputs": [],
   "source": [
    "# 클래스 정의\n",
    "class Person:\n",
    "    # 속성(변수)\n",
    "    blood_color = 'red'\n",
    "\n",
    "    # 메서드\n",
    "    def __init__(self, name):\n",
    "        self.name = name\n",
    "\n",
    "    def singing(self):\n",
    "        return f'{self.name}가 노래합니다.'\n",
    "    \n",
    "# 인스턴스 생성\n",
    "singer1 = Person('IU')\n",
    "singer2 = Person('BTS')\n",
    "\n",
    "# 메서드 호출\n",
    "print(singer1.singing())\n",
    "print(singer2.singing())\n",
    "\n",
    "# 속성(변수) 사용\n",
    "print(singer1.blood_color)\n",
    "print(singer2.blood_color)"
   ]
  },
  {
   "cell_type": "code",
   "execution_count": null,
   "metadata": {},
   "outputs": [],
   "source": [
    "# 인스턴스.메서드()\n",
    "'abc'.upper()\n",
    "\n",
    "# ↑ 축약형 ↑\n",
    "\n",
    "# 클래스.메서드(인스턴스 자기자신)\n",
    "str.upper('abc')\n"
   ]
  },
  {
   "cell_type": "code",
   "execution_count": null,
   "metadata": {},
   "outputs": [],
   "source": [
    "class Person:\n",
    "    \n",
    "    # 생성자 함수\n",
    "    def __init__(self, name, age):\n",
    "        self.name = name\n",
    "        self.__age = age\n",
    "\n",
    "    @property\n",
    "    def age(self):\n",
    "        return self.__age\n",
    "    \n",
    "    @age.setter\n",
    "    def age(self, new):\n",
    "        if new < 0:\n",
    "            raise ValueError(\"자연수만 입력하세요\")\n",
    "        else:\n",
    "            self.__age = new\n",
    "\n",
    "\n",
    "p1 = Person('lee', 20)\n",
    "\n",
    "print(p1.age)\n",
    "p1.age = -1\n",
    "print(p1.age)\n",
    "p1.age = 25\n",
    "print(p1.age)"
   ]
  },
  {
   "cell_type": "code",
   "execution_count": 3,
   "metadata": {},
   "outputs": [
    {
     "name": "stdout",
     "output_type": "stream",
     "text": [
      "False\n",
      "True\n"
     ]
    }
   ],
   "source": [
    "class Shape:\n",
    "\n",
    "    def __init__(self, w, h):\n",
    "        self.w = w\n",
    "        self.h = h\n",
    "\n",
    "    def __gt__(self, other):\n",
    "        return self.w * self.h > other.w * other.h\n",
    "    \n",
    "    def __eq__(self, other):\n",
    "        return self.w * self.h == other.w * other.h\n",
    "    \n",
    "s1 = Shape(3,4)\n",
    "s2 = Shape(5,6)\n",
    "s3 = Shape(6,5)\n",
    "\n",
    "print(s1 > s2)\n",
    "print(s2 == s3)\n"
   ]
  }
 ],
 "metadata": {
  "kernelspec": {
   "display_name": "Python 3",
   "language": "python",
   "name": "python3"
  },
  "language_info": {
   "codemirror_mode": {
    "name": "ipython",
    "version": 3
   },
   "file_extension": ".py",
   "mimetype": "text/x-python",
   "name": "python",
   "nbconvert_exporter": "python",
   "pygments_lexer": "ipython3",
   "version": "3.9.13"
  },
  "orig_nbformat": 4
 },
 "nbformat": 4,
 "nbformat_minor": 2
}
