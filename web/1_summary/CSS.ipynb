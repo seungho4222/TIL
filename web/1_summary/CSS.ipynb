{
 "cells": [
  {
   "cell_type": "markdown",
   "metadata": {},
   "source": [
    "### 크기단위\n",
    "- length\n",
    "    - 절대단위: px, cm, mm, in (고정적인 크기)\n",
    "    - 상대단위 (반응형 디자인용)\n",
    "        - em: 부모요소의 font-size 배수, 세부적으로 조정할 때\n",
    "        - rem: html(기본 16px)의 font-size 배수, 전체적인 틀을 잡을 때\n",
    "- 백분율(%): 상위 block에 대한 백분율 단위, 상위 block 크기가 바뀌면 자동 변경\n",
    "- auto(width): 100%, 상위 block이 허용하는 width만큼\n",
    "- auto(height): 0%, 높이 결정 요인은 block box 속 내용물 크기"
   ]
  },
  {
   "cell_type": "markdown",
   "metadata": {},
   "source": [
    "### 색상단위\n",
    "- 색상키워드: 대소문자 구분x\n",
    "    - ex) red, blue ...\n",
    "- RGB 색상: 16진수 or 함수형 표기법\n",
    "    - ex) #000, #ffffff\n",
    "- HSL 색상: 색상, 채도, 명도를 통해 특정 색을 표현하는 방식\n",
    "    - rgb(255,0,0)\n",
    "    - hsl(120, 100%, 0)\n",
    "    - rgba(0, 0, 255, 0.5)\n",
    "    - hsla(120, 100%, 0, 0.5)"
   ]
  },
  {
   "cell_type": "markdown",
   "metadata": {},
   "source": [
    "### font: 예시\n",
    "- font-size: 30px\n",
    "- font-style: italic (기울임)\n",
    "- font-variant: small-caps (대문자는 크게, 소문자는 작은 대문자로)\n",
    "- font-weight: 600 (두께)\n",
    "- font-family: 'Arial' (글꼴)"
   ]
  },
  {
   "cell_type": "markdown",
   "metadata": {},
   "source": [
    "### text: 예시\n",
    "- text-align: center (정렬 방식)\n",
    "- text-decoration: line-through (장식지정: 취소선)\n",
    "- text-indent: 10px (들여쓰기)\n",
    "- text-transform: capitalize (uppercase, lowercase)\n",
    "- text-spacing: 10px (문자간의 space 간격)\n",
    "- word-spacing: 10px (단어 간격)\n",
    "- line-height: 100px (줄(행) 간격 지정)\n",
    "- color: red (글자 색깔)\n",
    "- text-shadow: 1px 1px 2px pink (오른쪽, 아래, 블러, 색깔)\n",
    "- white-space: 엘리먼트 안의 공백 지정\n",
    "- vertical-aligh: 수직 정렬 지정"
   ]
  },
  {
   "cell_type": "markdown",
   "metadata": {},
   "source": [
    "### background\n",
    "- background-color: 배경색 지정\n",
    "- background-image: 배경을 이미지로 지정\n",
    "- background-attachment: 배경 이미지를 고정하거나 scroll여부 지정\n",
    "- background-repeat: 배경 그림의 반복 여부 지정\n",
    "- background-position: 배경 그림의 위치 지정\n",
    "- background: 배경 관련 속성 한번에 지정 (font 속성과 달리 속성 값 순서에 구애 받지 않음)\n",
    "- background-size: 배경 이미지 크기 조절\n",
    "- background-clip: 배경 적용 범위 조절"
   ]
  },
  {
   "cell_type": "markdown",
   "metadata": {},
   "source": [
    "### box model\n",
    "- 모든 HTML 요소는 box 형태로 되어 있음\n",
    "- margin - border - padding - content\n",
    "- box model - margin (padding 똑같음)\n",
    "    - margin 속성은 box의 마진영역의 너비를 지정\n",
    "    - 값 1개: 모든 면 적용\n",
    "    - 값 2개: {top, bottom}, {right, left}\n",
    "    - 값 3개: {top}, {right, left}, {bottom}\n",
    "    - 값 4개: top, right, bottom, left 순 적용\n",
    "    - margin: 0 auto 를 통해 가운데 정렬이 되도록 설정 가능\n",
    "    - 마진상쇄 현상이 일어날 수 있음\n",
    "- box model - border\n",
    "    - border-style: 선의 모양\n",
    "    - border-width: 선의 굵기\n",
    "    - border-color: 선의 색상\n",
    "    - 위의 세 속성을 줄여서 사용 가능\n",
    "    - border-radius: 선의 모서리를 둥글게 만드는 속성\n",
    "    - box-shadow: 그림자효과"
   ]
  },
  {
   "cell_type": "markdown",
   "metadata": {},
   "source": [
    "### display\n",
    "- block: 줄바꿈, 전체 가로폭 차지, 블록 안에 인라인 요소 들어갈 수 있음\n",
    "    - div, ul, ol, li, p, hr, form ...\n",
    "- inline: 줄바꿈x, 행의 일부, content너비만큼 가로폭 차지\n",
    "    - span, a, img, inpit, label, b, e, i, strong\n",
    "- inline-block\n",
    "- none: 해당 요소 화면 표시 x (공간x, 화면x)\n",
    "- visibility: hidden은 해당 요소 (공간o, 화면x)"
   ]
  }
 ],
 "metadata": {
  "language_info": {
   "name": "python"
  },
  "orig_nbformat": 4
 },
 "nbformat": 4,
 "nbformat_minor": 2
}
