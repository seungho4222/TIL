{
 "cells": [
  {
   "cell_type": "markdown",
   "metadata": {},
   "source": [
    "#### :rabbit: set 메서드\n",
    "\n",
    "- s.add(x) : 항목 x 추가\n",
    "- s.clear() : 모든 항목 제거\n",
    "- s.remove(x) : 항목 x 제거, 없을 경우 key error\n",
    "- s.pop() : 랜덤하게 항목 반환, 해당 항목 제거\n",
    "- s.discard(x) : 항목 x 제거, 없을 경우 에러 미발생\n",
    "- s.update(iterable) : iterable 요소 추가"
   ]
  },
  {
   "cell_type": "code",
   "execution_count": null,
   "metadata": {},
   "outputs": [],
   "source": [
    "my_set = {1, 2, 3}\n",
    "# my_set.remove(10)     # KeyError\n",
    "# print(my_set.discard(10))   # None\n",
    "\n",
    "element = my_set.pop()\n",
    "# print(element)\n",
    "# print(my_set)\n",
    "\n",
    "s1 = {2, 4, 40, 20}\n",
    "s2 = {100, 1, 54, 5}\n",
    "\n",
    "for i in s1 | s2:\n",
    "    print(hash(i))"
   ]
  },
  {
   "cell_type": "markdown",
   "metadata": {},
   "source": [
    "#### :turtle: dictionary 메서드\n",
    "- d.clear() : 모든 키/값 쌍 제거\n",
    "- d.get(k) : 키에 연결된 값 반환, 없으면 None\n",
    "- d.get(k, v) : 키에 연결된 값 반환, 없으면 v\n",
    "- d.keys() : 키를 모은 객체 반환\n",
    "- d.values() : 값을 모은 객체 반환\n",
    "- d.items() : 키/값 쌍을 모은 객체 반환\n",
    "- d.pop(k) : 키를 제거하고 연결된 값 반환, 없으면 오류\n",
    "- d.pop(k, v) : 키를 제거하고 연결된 값 반환, 없으면 v\n",
    "- d.setdefault(k) : 키와 연결된 값 반환\n",
    "- d.setdefault(k, v) : 키와 연결된 값 반환, 없으면 키와 값 추가하고 v반환\n",
    "- d.update(other) : 키와 연결된 값 변경 및 키/값 쌍 추가"
   ]
  },
  {
   "cell_type": "code",
   "execution_count": 14,
   "metadata": {},
   "outputs": [
    {
     "name": "stdout",
     "output_type": "stream",
     "text": [
      "{'A': 3, 'B': 3, 'O': 3, 'AB': 3}\n",
      "{'A': 3, 'B': 3, 'O': 3, 'AB': 3}\n",
      "{'A': 3, 'B': 3, 'O': 3, 'AB': 3}\n"
     ]
    }
   ],
   "source": [
    "blood_types = ['A', 'B', 'A', 'O', 'AB', 'AB', 'O', 'A', 'B', 'O', 'B', 'AB']\n",
    "\n",
    "# []\n",
    "new_dict = {}\n",
    "for blood_type in blood_types:      # blood_types을 순회\n",
    "    if blood_type in new_dict:      # 기존에 키가 이미 존재한다면,\n",
    "        new_dict[blood_type] += 1   # 기존에 키의 값을 +1 증가\n",
    "    else:                           # 키가 존재하지 않는다면 (처음 설정되는 키)\n",
    "        new_dict[blood_type] = 1\n",
    "print(new_dict)\n",
    "\n",
    "# .get()\n",
    "new_dict = {}\n",
    "for blood_type in blood_types:\n",
    "    new_dict[blood_type] = new_dict.get(blood_type, 0) + 1\n",
    "print(new_dict)\n",
    "\n",
    "# .setdefault()\n",
    "new_dict = {}\n",
    "for blood_type in blood_types:\n",
    "    new_dict.setdefault(blood_type, 0)\n",
    "    new_dict[blood_type] += 1\n",
    "print(new_dict)"
   ]
  },
  {
   "cell_type": "markdown",
   "metadata": {},
   "source": [
    "#### :cat: 복사 유형\n",
    "1. 할당\n",
    "    - 할당 연산자(=)를 통한 복사는 객체 참조 됨\n",
    "2. 얕은 복사\n",
    "    - 슬라이싱[:] 및 copy를 통한 복사는 원복 객체와 독립적으로 존재\n",
    "    - [1, 2, [1, 2]]와 같이 내부에 중첩된 iterable은 객체 참조 됨\n",
    "3. 깊은 복사\n",
    "    - 내부 중첩된 모든 객체가 새로운 주소 참조"
   ]
  }
 ],
 "metadata": {
  "kernelspec": {
   "display_name": "Python 3",
   "language": "python",
   "name": "python3"
  },
  "language_info": {
   "codemirror_mode": {
    "name": "ipython",
    "version": 3
   },
   "file_extension": ".py",
   "mimetype": "text/x-python",
   "name": "python",
   "nbconvert_exporter": "python",
   "pygments_lexer": "ipython3",
   "version": "3.9.13"
  },
  "orig_nbformat": 4
 },
 "nbformat": 4,
 "nbformat_minor": 2
}
