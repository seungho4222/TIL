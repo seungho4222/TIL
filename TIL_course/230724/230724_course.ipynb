{
 "cells": [
  {
   "cell_type": "code",
   "execution_count": null,
   "metadata": {},
   "outputs": [],
   "source": [
    "# print(help(list))\n",
    "\n",
    "numbers = [1, 2, 3]\n",
    "numbers2 = [4, 5, 6]\n",
    "\n",
    "# numbers.append(numbers2)\n",
    "# print(numbers)      # [1, 2, 3, [4, 5, 6]]\n",
    "\n",
    "# numbers.extend(numbers2)\n",
    "# print(numbers)      # [1, 2, 3, 4, 5, 6]\n",
    "\n",
    "\n",
    "# sort 메서드\n",
    "print(numbers.sort())   # None\n",
    "\n",
    "numbers = [3, 2, 1]\n",
    "# sorted 함수\n",
    "print(sorted(numbers))  # [1, 2, 3]\n",
    "print(numbers)  # [3, 2, 1]\n",
    "\n",
    "tup = (3, 4, 5, 6, 2, 1)\n",
    "print(sorted(tup))  # [1, 2, 3, 4, 5, 6]\n",
    "print(tup)          # (3, 4, 5, 6, 2, 1)\n",
    "\n",
    "string1 = \"하가다\"\n",
    "string2 = \"zxcvb\"\n",
    "print(sorted(string1))  # ['가', '다', '하']\n",
    "print(sorted(string2))  # ['b', 'c', 'v', 'x', 'z']\n",
    "\n",
    "# 1. 할당\n",
    "list1 = numbers\n",
    "\n",
    "# 2. 슬라이싱\n",
    "list2 = numbers[:]\n",
    "\n",
    "numbers[0] = 100\n",
    "\n",
    "# print(list1)    # [100, 2, 3]\n",
    "# print(list2)    # [1, 2, 3]\n"
   ]
  },
  {
   "cell_type": "code",
   "execution_count": 4,
   "metadata": {},
   "outputs": [
    {
     "name": "stdout",
     "output_type": "stream",
     "text": [
      "['a', 'b', 'c']\n",
      "[('c', 3), ('a', 5), ('b', 10)]\n",
      "[('c', 3), ('a', 5), ('b', 10)]\n"
     ]
    }
   ],
   "source": [
    "dic = {\"c\": 3, \"b\": 10, \"a\": 5}\n",
    "\n",
    "print(sorted(dic))      # ['a', 'b', 'c']\n",
    "\n",
    "# ex) 딕셔너리를 정렬하고 싶은데 키가 아니라 값을 기준으로 정렬하고 싶다.\n",
    "# \"c\": 3, \"a\": 5, \"b\": 10\n",
    "\n",
    "def sort_key(item):\n",
    "    # 정렬 기준을 return\n",
    "    return item[1]\n",
    "\n",
    "print(sorted(dic.items(), key=sort_key))   # key 인자는 정렬방법을 서술할 함수\n",
    "\n",
    "\n",
    "print(sorted(dic.items(), key=lambda item: item[1]))   # key 인자는 정렬방법을 서술할 함수\n",
    "# [('c', 3), ('a', 5), ('b', 10)]"
   ]
  },
  {
   "cell_type": "code",
   "execution_count": null,
   "metadata": {},
   "outputs": [],
   "source": [
    "'''python\n",
    "s.find(x)   없으면 1을 반환\n",
    "s.index(x)  없으면 오류 발생\n",
    "s.replace(old, new, [,count])   count는 old문자가 여러개일 경우 몇개 바꿀지 지정\n",
    "s.split(sep=None, maxsplit=-1)  maxsplit은 구분자 기준으로 몇 번 나눌지 지정\n",
    "'구분자'.join(iterable)     구분자로 연결하여 하나의 문자열로 반환\n",
    "L.insert(i, x)      i번째 인덱스에 X값 삽입\n",
    "L.index(x, start, end)      x값의 첫번째 인덱스 반환(start, end로 범위 지정 가능)\n",
    "isdecimal() <= isdigit() <= isnumeric()     숫자 인식범위\n",
    "'''"
   ]
  }
 ],
 "metadata": {
  "kernelspec": {
   "display_name": "Python 3",
   "language": "python",
   "name": "python3"
  },
  "language_info": {
   "codemirror_mode": {
    "name": "ipython",
    "version": 3
   },
   "file_extension": ".py",
   "mimetype": "text/x-python",
   "name": "python",
   "nbconvert_exporter": "python",
   "pygments_lexer": "ipython3",
   "version": "3.9.13"
  },
  "orig_nbformat": 4
 },
 "nbformat": 4,
 "nbformat_minor": 2
}
