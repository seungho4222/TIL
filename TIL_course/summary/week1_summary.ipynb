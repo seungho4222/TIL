{
 "cells": [
  {
   "cell_type": "markdown",
   "metadata": {},
   "source": [
    "### ※ 파이썬 응용 분야\n",
    "- 데이터 분석, 인공지능, 웹 개발, 자동화 등\n",
    "\n",
    "### ※ 표현식과 값\n",
    "- 표현식: 값, 변수, 연산자 등을 조합하여 계산되고 결과를 내는 코드 구조\n",
    "- 평가: 표현식이나 문장을 실행하여 그 결과를 계산하고 값을 결정하는 과정(순차적)\n",
    "- 문장: 실행 가능한 동작을 기술하는 코드(조건문, 반복문, 함수 정의 등)\n",
    "    -   문장은 여러 개의 표현식을 포함\n",
    "- 타입: 값이 어떤 종류의 데이터인지, 어떻게 해석되고 처리되어야 하는지 정의\n",
    "    - 데이터 타입\n",
    "        - Numeric Types: int, float, complex\n",
    "            - 2진수(binary): 0b\n",
    "            - 8진수(octla): 0o\n",
    "            - 16진수(hexadecimal): 0x\n",
    "        - Sequence Types: list[], tuple(), range()\n",
    "            - 순서(O), 인덱싱(0부터, 끝: -1부터), 슬라이싱([start:end:step]), 길이(len), 반복(O)\n",
    "            - tuple, range 변경불가\n",
    "        - Text Sequence Type: str\"\"\n",
    "            - 문자들의 순서가 있는 변경 불가능한 시퀸스 자료형\n",
    "        - Set Types: set{}\n",
    "            - 순서와 중복이 없는 변경 가능한 자료형\n",
    "            - 수학에서의 집합과 동일한 연산 처리 가능(|:합집합, &:교집합, -:차집합)\n",
    "        - Mapping Types: dict{key:value}\n",
    "            - key는 변경불가능한 자료형만 사용 가능(str, int, float, tuple, range ...)\n",
    "            - value는 모든 자료형 사용 가능\n",
    "            - key를 통해 value 접근 -> dict['key'] = 'value'\n",
    "        - others: None, Boolean, Functions\n",
    "            - None은 값이 없음을 의\n",
    "            - True: 1, False: 0, 공백\n",
    "    - 산술 연산자\n",
    "        - '-': 음수부호\n",
    "        - '+': 덧셈\n",
    "        - '-': 뺄셈\n",
    "        - '*': 곱셈\n",
    "        - '/': 나눗셈\n",
    "        - '//\": 정수 나눗셈(몫)\n",
    "        - '%': 나머지\n",
    "        - '**': 지수(거듭제곱) - 연산 최우선순위\n",
    "            - 지수표현방식: 314e-2 = 314 * 0.01\n",
    "    - 복합 연산자\n",
    "        - 연산과 할당이 함께 이루어짐 - (+=, -=, *=, /= ...)\n",
    "    - 비교 연산자\n",
    "        - <, <=, >, >=, ==, != , is, is not\n",
    "        - 2.0 == 2 -> True, 2.0 is 2 -> False\n",
    "    - 논리 연산자\n",
    "        - and(논리곱), or(논리합), not(논리부정)\n",
    "    - 멤버쉽 연산자\n",
    "        - in, not in\n",
    "    - 시퀀스형 연산자\n",
    "        - +(결합연산자), *(반복연산자)"
   ]
  },
  {
   "cell_type": "markdown",
   "metadata": {},
   "source": [
    "#### 연산자 우선순위\n",
    "\n",
    "|     우선순위    \t|             연산자            \t|               내용             \t|\n",
    "|:---------------:\t|:-----------------------------:\t|:------------------------------:\t|\n",
    "|       높음      \t|               ()              \t|        소괄호   grouping       \t|\n",
    "|                 \t|               []              \t|        인덱싱,   슬라이싱      \t|\n",
    "|                 \t|               **              \t|             거듭제곱           \t|\n",
    "|                 \t|             +,   -            \t|     단항   연산자 양수/음수    \t|\n",
    "|                 \t|          *,   /, //, %        \t|          산술   연산자         \t|\n",
    "|                 \t|             +,   -            \t|          산술   연산자         \t|\n",
    "|                 \t|     <,   <=, >, >=, ==, !=    \t|          비교   연산자         \t|\n",
    "|                 \t|          is,   is not         \t|           객체   비교          \t|\n",
    "|                 \t|          in,   not in         \t|         멤버십   연산자        \t|\n",
    "|                 \t|               not             \t|           논리   부정          \t|\n",
    "|                 \t|               and             \t|            논리   AND          \t|\n",
    "|       낮음      \t|               or              \t|            논리   OR           \t|"
   ]
  },
  {
   "cell_type": "code",
   "execution_count": null,
   "metadata": {},
   "outputs": [],
   "source": [
    "print(-2 ** 4)      # -16\n",
    "print(-(2 ** 4))    # -16\n",
    "print((-2) ** 4)    # 16"
   ]
  },
  {
   "cell_type": "code",
   "execution_count": null,
   "metadata": {},
   "outputs": [],
   "source": [
    "print(0b10)     # 2\n",
    "print(0o30)     # 24\n",
    "print(0x10)     # 16"
   ]
  },
  {
   "cell_type": "markdown",
   "metadata": {},
   "source": [
    "#### Escape sequence\n",
    "- 역슬래시(\\\\) + 특정문자 = 특수기능\n",
    "- 파이썬의 일반적인 문법 규칙을 잠시 탈출한다는 의미\n",
    "    - \\n : 줄 바꿈\n",
    "    - \\t : 탭\n",
    "    - \\\\\\ : 백슬래시\n",
    "    - \\\\' : 작은 따옴표\n",
    "    - \\\\\" : 큰 따옴표"
   ]
  },
  {
   "cell_type": "markdown",
   "metadata": {},
   "source": [
    "### ※ 변수와 메모리 \"값이 저장되는 법\"\n",
    "- 변수: 값을 참조하는 이름\n",
    "    - degrees = 36.5\n",
    "    - \"변수 degrees에 값 36.5를 할당했다\"\n",
    "- 변수명 규칙\n",
    "    - 영문 알파벳, 언더스코어(_), 숫자로 구성\n",
    "    - 숫자로 시작 불가\n",
    "    - 대소문자 구분\n",
    "    - 아래 키워드는 파이썬의 내부 예약어로 사용할 수 없음\n",
    "    \n",
    "    ```python\n",
    "    ['False', 'None', 'True', '__peg_parser__', 'and', 'as', 'assert', \n",
    "    'async', 'await', 'break', 'class', 'continue', 'def', 'del', \n",
    "    'elif', 'else', 'except', 'finally', 'for', 'from', 'global', \n",
    "    'if', 'import', 'in', 'is', 'lambda', 'nonlocal', 'not', \n",
    "    'or', 'pass', 'raise', 'return', 'try', 'while', 'with', 'yield']\n",
    "    ```\n",
    "- 할당문\n",
    "    1. 할당 연산자(=) 오른쪽에 있는 표현식을 평가해서 값(메모리 주소)을 생성\n",
    "    2. 값의 메모리 주소를 '=' 왼쪽에 있는 변수에 저장\n",
    "    - 존재하지 않는 변수라면\n",
    "        - 새 변수 생성\n",
    "    - 기존에 존해했던 변수라면\n",
    "        - 기존 변수를 재사용해서 변수에 들어 있는 메모리 주소 변경"
   ]
  },
  {
   "cell_type": "code",
   "execution_count": null,
   "metadata": {},
   "outputs": [],
   "source": [
    "number = 10\n",
    "double = 2 * number\n",
    "print(double)  # 20\n",
    "number = 5\n",
    "print(double)  # 20"
   ]
  },
  {
   "cell_type": "markdown",
   "metadata": {},
   "source": [
    "#### f-string\n",
    "- f' {expression} {expression} '\n",
    "- f' {0} {1} '.format(expression, expression)\n",
    "- f' %s %d ' % (expression, expression)"
   ]
  },
  {
   "cell_type": "markdown",
   "metadata": {},
   "source": [
    "### ※ 함수 Functions\n",
    "- 함수 사용 이유: 재사용성 증가, 코드의 가독성과 유지보수성 향상\n",
    "- 내장 함수(Built-in function): 파이썬이 기본적으로 제공하는 함수\n",
    "- 함수의 정의와 호출\n",
    "    ```python\n",
    "    # 함수 정의\n",
    "    def greet(name):\n",
    "        \"\"\"입력된 이름(name) 값에\n",
    "        인사를 하는 메세지('Hello, ')를 만드는 함수\n",
    "        \"\"\"\n",
    "        message = 'Hello, ' + name\n",
    "        return message\n",
    "\n",
    "    # 함수 호출\n",
    "    result = greet('Alice')\n",
    "    print(result)\n",
    "    ```\n",
    "- 매개변수(parameter): 함수를 정의할 때, 함수가 받을 값을 나타내는 변수\n",
    "- 인자(argument): 함수를 호출할 때, 실제로 전달되는 값\n",
    "    - 임의의 인자 목록(Arbitrary Argument Lists): *args\n",
    "    - 임의의 키워드 인자 목록(Arbitrary Keyword Argument Lists): **kwargs\n",
    "    - 인자 권장 작성순서: 위치 -> 기본 -> 가변 -> 키워드 -> 가변 키워드"
   ]
  },
  {
   "cell_type": "markdown",
   "metadata": {},
   "source": [
    "#### Scope\n",
    "1. built-in scope\n",
    "    - 파이썬이 실행된 이후부터 영원히 유지\n",
    "2. global scope\n",
    "    - 모듈이 호출된 시점 이후 혹은 인터프리터가 끝날 때까지 유지\n",
    "3. local scope\n",
    "    - 함수가 호출될 때 생성되고, 함수가 종료될 때까지 유지\n",
    "\n",
    "#### 이름검색 규칙\n",
    "- 파이썬에서 사용되는 이름(식별자)들은 특정한 이름공간에 저장되어 있음\n",
    "- LEGB Rule: Local - Enclosed - Global - Built-in"
   ]
  },
  {
   "cell_type": "markdown",
   "metadata": {},
   "source": [
    "#### 재귀함수\n",
    "- 함수 내부에서 자기 자신을 호출하는 함수\n",
    "- 특징\n",
    "    - 특정 알고리즘 식을 표현할 때 변수의 사용이 줄어들며, 코드의 가독성이 높아짐\n",
    "    - 1개 이상의 base case(종료되는 상황)가 존재하고, 수렴하도록 작성\n",
    "- 예시: 팩토리얼\n",
    "    ```python\n",
    "    def factorial(n):\n",
    "        # 종료 조건: n이 0이면 1을 반환\n",
    "        if n == 0:\n",
    "            return 1\n",
    "        # 재귀 호출: n과 n-1의 팩토리얼을 곱한 결과를 반환\n",
    "        return n * factorial(n - 1)\n",
    "\n",
    "\n",
    "    # 팩토리얼 계산 예시\n",
    "    result = factorial(5)\n",
    "    print(result) # 120\n",
    "    ```"
   ]
  },
  {
   "cell_type": "markdown",
   "metadata": {},
   "source": [
    "#### 유용한 함수\n",
    "- map(function, iterable)\n",
    "- zip(*iterables)\n",
    "- lambda 매개변수: 표현식\n",
    "- filter(조건식, iterable)\n",
    "\n",
    "    --> list로 묶어줘야 출력 가능"
   ]
  },
  {
   "cell_type": "markdown",
   "metadata": {},
   "source": [
    "#### 패킹(Packing) & 언패킹(Unpacking)\n",
    "- ‘ * ’\n",
    "    - 패킹 연산자로 사용될 때, 여러 개의 인자를 하나의 튜플로 묶는 역할\n",
    "    - 언패킹 연산자로 사용될 때, 시퀀스나 반복 가능한 객체를 각각의 요소로 언패킹하여 함수의 인자로 전달\n",
    "- ‘ ** ’\n",
    "    - 언패킹 연산자로 사용될 때, 딕셔너리의 키-값 쌍을 키워드 인자로 언패킹하여 함수의 인자로 전달하는 역할\n",
    "\n",
    "    ```python\n",
    "    numbers = [1, 2, 3, 4, 5]\n",
    "    a, *b, c = numbers\n",
    "    \n",
    "    print(a) # 1\n",
    "    print(b) # [2, 3, 4]\n",
    "    print(c) # 5\n",
    "    ```"
   ]
  },
  {
   "cell_type": "markdown",
   "metadata": {},
   "source": [
    "### ※ 모듈 Module\n",
    "- 한 파일로 묶인 변수와 함수의 모음, 특정한 기능을 하는 코드가 작성된 파이썬 파일(.py)\n",
    "- 예시: 파이썬의 math 모듈\n",
    "- 모듈 내 변수와 함수에 접근하려면 import 문이 필요\n",
    "    \n",
    "    ```python\n",
    "    import math\n",
    "    ```\n",
    "\n",
    "- 내장 함수 help를 사용해 모듈에 무엇이 들어있는지 확인 가능\n",
    "    \n",
    "    ```python\n",
    "    help(math)\n",
    "    ```\n",
    "- '.(dot)'은 \"점의 왼쪽 객체에서 오른쪽 이름을 찾아라\"라는 의미의 연산자자"
   ]
  },
  {
   "cell_type": "markdown",
   "metadata": {},
   "source": [
    "#### 패키지 Package\n",
    "- 관련된 모듈들을 하나의 디렉토리에 모아 놓은 것\n",
    "- PSL 내부 패키지: 설치 없이 바로 import하여 사용\n",
    "- 외부 패키지: pip를 사용하여 설치 후 import 필요\n",
    "- 사용 목적\n",
    "    - 모듈들의 이름공간을 구분하여 충돌 방지\n",
    "    - 모듈들을 효율적으로 관리하고 재사용할 수 있도록 돕는 역할"
   ]
  },
  {
   "cell_type": "markdown",
   "metadata": {},
   "source": [
    "### ※ 제어문 Control Statement\n",
    "- 코드의 실행 흐름을 제어하는 데 사용되는 구문\n",
    "- 조건에 따라 코드 블록을 실행하거나 반복적으로 코드를 실행\n",
    "\n",
    "#### 조건문 Conditional Statement\n",
    "- 주어진 조건식을 평가하여 해당 조건이 True인 경우에만 코드블록 실행 및 건너뜀\n",
    "- if / elif / else\n",
    "\n",
    "#### 반복문 Loop Statement\n",
    "- 주어진 조건이 True인 동안 특정작업을 반복적으로 실행하는 구문\n",
    "- 'for' statement\n",
    "    - 임의의 시퀀스의 항목들을 그 시퀀스에 들어있는 순서대로 반복\n",
    "- 'while' statement\n",
    "    - 조건식이 False가 될 때까지 반복 (반드시 **종료 조건** 필요)\n",
    "\n",
    "#### 반복 제어\n",
    "- break: 반복 즉시 중지\n",
    "- continue: 다음 반복으로 건너뜀\n",
    "- pass, ... : 문법적으로 문장이 필요하지만 프로그램 실행에 영향을 주지 않아야 할 때 사용 (기능 없음)"
   ]
  },
  {
   "cell_type": "markdown",
   "metadata": {},
   "source": [
    "#### List Comprehension\n",
    "- 간결하고 효율적인 리스트 생성 방법\n",
    "- 구조\n",
    "    ```python\n",
    "    [expression for 변수 in iterable if 조건식]\n",
    "    list(expression for 변수 in iterable if 조건식)\n",
    "    ```\n",
    "    \n",
    "> \"Simple is better than complex\"<br>\n",
    "> \"Keep it simple, stupid\"\n"
   ]
  },
  {
   "cell_type": "markdown",
   "metadata": {},
   "source": [
    "#### enumerate(iterable, start=0)\n",
    "- iterable 객체의 각 요소에 대해 인덱스와 함께 반환하는 내장함수"
   ]
  },
  {
   "cell_type": "markdown",
   "metadata": {},
   "source": [
    "### :+1: 참고\n",
    "> 파이썬 스타일 가이드 PEP 8 참고 문서 : https://peps.python.org/pep-0008/\n",
    "\n",
    "> Python Tutor : https://pythontutor.com/\n",
    "\n",
    "> 파이썬 표준 라이브러리 : https://docs.python.org/ko/3/library/index.html\n",
    "\n",
    "> pip 파이썬 패키지 관리자 : https://pypi.org/\n"
   ]
  }
 ],
 "metadata": {
  "kernelspec": {
   "display_name": "Python 3",
   "language": "python",
   "name": "python3"
  },
  "language_info": {
   "codemirror_mode": {
    "name": "ipython",
    "version": 3
   },
   "file_extension": ".py",
   "mimetype": "text/x-python",
   "name": "python",
   "nbconvert_exporter": "python",
   "pygments_lexer": "ipython3",
   "version": "3.11.4"
  },
  "orig_nbformat": 4
 },
 "nbformat": 4,
 "nbformat_minor": 2
}
