{
 "cells": [
  {
   "cell_type": "markdown",
   "metadata": {},
   "source": [
    "#### ✔ 관계형 데이터베이스 관련 키워드\n",
    "1. Table (aka. Relation)\n",
    "2. Field (aka. Column, Attribute)\n",
    "3. Record (aka. Row, Tuple)\n",
    "4. Database (aka. Schema)\n",
    "5. Primary Key (기본 키)\n",
    "6. Foreign Key (외래 키)"
   ]
  },
  {
   "cell_type": "markdown",
   "metadata": {},
   "source": [
    "#### ✔ SQL (Structure Query Language)\n",
    "- 데이터베이스에 정보를 저장하고 처리하기 위한 프로그래밍 언어\n",
    "- SQL SYNTAX\n",
    "    - SQL키워드는 대소문자 구분 X => 대문자 작성 권장\n",
    "    - 각 SQL Statements의 끝에는 세미콜론(;) 필요\n"
   ]
  },
  {
   "cell_type": "markdown",
   "metadata": {},
   "source": [
    "#### ✔ SELECT statement 실행 순서\n",
    "- FROM -> WHERE -> GROUP BY -> HAVING -> SELECT -> ORDER BY -> LIMIT"
   ]
  },
  {
   "cell_type": "markdown",
   "metadata": {},
   "source": [
    "#### ✔ SQLite 데이터 타입\n",
    "1. NULL : 아무런 값도 포함하지 않음을 나타냄\n",
    "2. INTEGER : 정수\n",
    "3. REAL : 부동 소수점\n",
    "4. TEXT : 문자열\n",
    "5. BLOB : 이미지, 동영상, 문서 등의 바이너리 데이터"
   ]
  }
 ],
 "metadata": {
  "language_info": {
   "name": "python"
  }
 },
 "nbformat": 4,
 "nbformat_minor": 2
}
