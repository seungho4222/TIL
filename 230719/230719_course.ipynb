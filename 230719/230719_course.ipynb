{
 "cells": [
  {
   "cell_type": "markdown",
   "metadata": {},
   "source": [
    "- 함수(def) 내 return 값이 없을 경우 None 호출"
   ]
  },
  {
   "cell_type": "code",
   "execution_count": 7,
   "metadata": {},
   "outputs": [
    {
     "name": "stdout",
     "output_type": "stream",
     "text": [
      "안녕, Alice, 25!!\n",
      "안녕, 25, Alice!!\n",
      "hi aaa bbb ccc\n",
      "hi aaa bbb\n",
      "{'name': 'Alice', 'age': 30, 'address': 'korea'}\n"
     ]
    }
   ],
   "source": [
    "def greeting(name, age):\n",
    "    print(f'안녕, {name}, {age}!!')\n",
    "\n",
    "greeting('Alice', 25) # 안녕, Alice, 25!!\n",
    "\n",
    "greeting(25, 'Alice') # 안녕, 25, Alice!!\n",
    "\n",
    "# greeting(age=25, name='Alice') # 안녕, Alice, 25!!\n",
    "\n",
    "# greeting(age=25, 'Dave') # SyntaxError: positional argument follows keyword argument\n",
    "\n",
    "print('hi', 'aaa', 'bbb', 'ccc')\n",
    "print('hi', 'aaa', 'bbb')   # 대표적인 임의의 인자 목록 (*args)\n",
    "\n",
    "def calculate_sum(**kwargs):    # 임의의 키워드 인자 목록 (**kwargs)\n",
    "    print(kwargs)\n",
    "\n",
    "calculate_sum(name='Alice', age=30, address='korea')"
   ]
  },
  {
   "cell_type": "code",
   "execution_count": null,
   "metadata": {},
   "outputs": [],
   "source": [
    "def my_func():\n",
    "    num = 1\n",
    "\n",
    "num = 3\n",
    "print(num)"
   ]
  },
  {
   "cell_type": "code",
   "execution_count": 8,
   "metadata": {},
   "outputs": [
    {
     "name": "stdout",
     "output_type": "stream",
     "text": [
      "120\n"
     ]
    }
   ],
   "source": [
    "def factorial(n):\n",
    "    if n == 1:\n",
    "        return 1\n",
    "    return n * factorial(n - 1)\n",
    "\n",
    "print(factorial(5))"
   ]
  },
  {
   "cell_type": "code",
   "execution_count": null,
   "metadata": {},
   "outputs": [],
   "source": [
    "def my_func(x):\n",
    "    result = x * 2\n",
    "    return result\n",
    "\n",
    "numbers = [1, 2, 3]\n",
    "result = map(str, numbers)\n",
    "\n",
    "print(result)\n",
    "print(list(result))\n",
    "\n",
    "result = []\n",
    "for number in numbers:\n",
    "    result.append(str(number))\n",
    "\n",
    "print(result)\n",
    "\n",
    "\n",
    "import sys\n",
    "\n",
    "sys.stdin = open('input.txt')\n",
    "\n",
    "T = int(input())\n",
    "\n",
    "result = input().split()\n",
    "\n",
    "print(result)\n",
    "\n",
    "# K, N, M = map(int, input().split())\n",
    "\n",
    "# print(K, N, M)"
   ]
  },
  {
   "cell_type": "code",
   "execution_count": null,
   "metadata": {},
   "outputs": [],
   "source": [
    "# 팩킹, 언팩킹\n",
    "pack = 1, 2, 3, 4, 5\n",
    "print(pack)\n",
    "\n",
    "numbers = [1, 2, 3, 4, 5]\n",
    "a, *b, c = numbers\n",
    "print(a, b, c)\n",
    "print(*numbers)\n",
    "\n",
    "def my_func(x, y, z):\n",
    "    print(x, y, z)\n",
    "\n",
    "my_dict = {'x': 1, 'y': 2, 'z': 3}\n",
    "my_func(**my_dict)\n",
    "\n",
    "# print(str(my_dict))\n",
    "# print(list(my_dict))\n",
    "# print(tuple(my_dict))\n",
    "# print(set(my_dict))"
   ]
  },
  {
   "cell_type": "code",
   "execution_count": null,
   "metadata": {},
   "outputs": [],
   "source": [
    "import requests\n",
    "\n",
    "url = 'https://random-data-api.com/api/v2/users' # 랜덤 데이터 요청\n",
    "response = requests.get(url).json()\n",
    "\n",
    "print(response)"
   ]
  },
  {
   "cell_type": "code",
   "execution_count": null,
   "metadata": {},
   "outputs": [],
   "source": [
    "# 세제곱 함수\n",
    "def cube(x):\n",
    "    return x ** 3\n",
    "\n",
    "print(cube(8))\n",
    "print(cube(100))"
   ]
  },
  {
   "cell_type": "code",
   "execution_count": 8,
   "metadata": {},
   "outputs": [
    {
     "name": "stdout",
     "output_type": "stream",
     "text": [
      "(600, 100)\n"
     ]
    }
   ],
   "source": [
    "# 사각형 넓이 구하는 함수\n",
    "def rectangle(w, h):\n",
    "    return w * h, 2 * (w + h)\n",
    "\n",
    "print(rectangle(30, 20))"
   ]
  },
  {
   "cell_type": "code",
   "execution_count": null,
   "metadata": {},
   "outputs": [],
   "source": [
    "num = 10\n",
    "\n",
    "def my_func():\n",
    "    global num\n",
    "    num = 20\n",
    "    print('함수 실행')\n",
    "\n",
    "my_func()\n",
    "\n",
    "print(num)"
   ]
  },
  {
   "cell_type": "code",
   "execution_count": 16,
   "metadata": {},
   "outputs": [
    {
     "name": "stdout",
     "output_type": "stream",
     "text": [
      "[1, 3, 5]\n"
     ]
    }
   ],
   "source": [
    "# map(function, iterable)\n",
    "# zip(*iterable)\n",
    "# lambda 매개변수: 표현식\n",
    "# filter(function, iterable) => 함수의 결과는 True or False이며, True만 반환\n",
    "\n",
    "def odd(n):\n",
    "    return n % 2\n",
    "\n",
    "numbers = [1, 2, 3, 4, 5]\n",
    "new_number = list(filter(odd, numbers)) # odd == lambda n:n % 2\n",
    "\n",
    "print(new_number)"
   ]
  }
 ],
 "metadata": {
  "kernelspec": {
   "display_name": "Python 3",
   "language": "python",
   "name": "python3"
  },
  "language_info": {
   "codemirror_mode": {
    "name": "ipython",
    "version": 3
   },
   "file_extension": ".py",
   "mimetype": "text/x-python",
   "name": "python",
   "nbconvert_exporter": "python",
   "pygments_lexer": "ipython3",
   "version": "3.9.13"
  },
  "orig_nbformat": 4
 },
 "nbformat": 4,
 "nbformat_minor": 2
}
