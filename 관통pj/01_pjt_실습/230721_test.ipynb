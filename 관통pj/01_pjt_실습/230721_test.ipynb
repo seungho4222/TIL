{
 "cells": [
  {
   "cell_type": "markdown",
   "id": "5e0bfed2",
   "metadata": {},
   "source": [
    "## 'y':다시 코드모드로 변경\n",
    "## 'm':쉘 하나가 마크다운 모드로 변경\n",
    "## 'a': 커서 기준 위에 쉘 하나 추가\n",
    "## 'b':커서 기준 아래에 쉘 하나 추가\n",
    "## 'dd':쉘 삭제\n",
    "## 'shift + enter':실행 후 커서를 아래로 이동\n",
    "## 'ctrl + enter':실행 후 커서를 제자리로 이동"
   ]
  },
  {
   "cell_type": "code",
   "execution_count": 2,
   "id": "83181232",
   "metadata": {},
   "outputs": [],
   "source": [
    "API_KEY = '83702b9ca42f557eb9b2d2a6d5fdf71f'"
   ]
  },
  {
   "cell_type": "code",
   "execution_count": 3,
   "id": "373a46d6",
   "metadata": {
    "scrolled": false
   },
   "outputs": [],
   "source": [
    "city_name = 'Seoul,KR'\n",
    "url = f'https://api.openweathermap.org/data/2.5/weather?q={city_name}&appid={API_KEY}'"
   ]
  },
  {
   "cell_type": "code",
   "execution_count": 5,
   "id": "fcba5435",
   "metadata": {},
   "outputs": [
    {
     "data": {
      "text/plain": [
       "27.57000000000005"
      ]
     },
     "execution_count": 5,
     "metadata": {},
     "output_type": "execute_result"
    }
   ],
   "source": [
    "import requests\n",
    "# API 요청 보내기\n",
    "response = requests.get(url).json()\n",
    "# 온도만 출력\n",
    "temp = response['main']['temp']\n",
    "temp -= 273.15\n",
    "temp"
   ]
  },
  {
   "cell_type": "code",
   "execution_count": 6,
   "id": "faf29857",
   "metadata": {},
   "outputs": [
    {
     "data": {
      "text/plain": [
       "{'coord': {'lon': 126.9778, 'lat': 37.5683},\n",
       " 'weather': [{'id': 701,\n",
       "   'main': 'Mist',\n",
       "   'description': 'mist',\n",
       "   'icon': '50n'}],\n",
       " 'base': 'stations',\n",
       " 'main': {'temp': 300.72,\n",
       "  'feels_like': 303.46,\n",
       "  'temp_min': 298.84,\n",
       "  'temp_max': 301.93,\n",
       "  'pressure': 1013,\n",
       "  'humidity': 74},\n",
       " 'visibility': 9000,\n",
       " 'wind': {'speed': 1.03, 'deg': 320},\n",
       " 'clouds': {'all': 20},\n",
       " 'dt': 1689946185,\n",
       " 'sys': {'type': 1,\n",
       "  'id': 8105,\n",
       "  'country': 'KR',\n",
       "  'sunrise': 1689884782,\n",
       "  'sunset': 1689936610},\n",
       " 'timezone': 32400,\n",
       " 'id': 1835848,\n",
       " 'name': 'Seoul',\n",
       " 'cod': 200}"
      ]
     },
     "execution_count": 6,
     "metadata": {},
     "output_type": "execute_result"
    }
   ],
   "source": [
    "response"
   ]
  },
  {
   "cell_type": "code",
   "execution_count": 7,
   "id": "38a15f94",
   "metadata": {},
   "outputs": [
    {
     "data": {
      "text/plain": [
       "'날씨 설명: mist'"
      ]
     },
     "execution_count": 7,
     "metadata": {},
     "output_type": "execute_result"
    }
   ],
   "source": [
    "description = response['weather'][0]['description']\n",
    "f'날씨 설명: {description}'"
   ]
  }
 ],
 "metadata": {
  "kernelspec": {
   "display_name": "Python 3 (ipykernel)",
   "language": "python",
   "name": "python3"
  },
  "language_info": {
   "codemirror_mode": {
    "name": "ipython",
    "version": 3
   },
   "file_extension": ".py",
   "mimetype": "text/x-python",
   "name": "python",
   "nbconvert_exporter": "python",
   "pygments_lexer": "ipython3",
   "version": "3.11.4"
  },
  "toc": {
   "base_numbering": 1,
   "nav_menu": {},
   "number_sections": true,
   "sideBar": true,
   "skip_h1_title": false,
   "title_cell": "Table of Contents",
   "title_sidebar": "Contents",
   "toc_cell": false,
   "toc_position": {},
   "toc_section_display": true,
   "toc_window_display": false
  }
 },
 "nbformat": 4,
 "nbformat_minor": 5
}
