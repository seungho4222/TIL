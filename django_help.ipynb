{
 "cells": [
  {
   "cell_type": "markdown",
   "metadata": {},
   "source": [
    "#### 프로젝트 생성 전\n",
    "1. 가상환경(venv) 생성\n",
    "- python -m venv venv\n",
    "\n",
    "2. 가상환경 활성화\n",
    "- source venv/Scripts/activate\n",
    "    - 비활성화: deactivate\n",
    "    - 패키지 목록 확인: pip list\n",
    "\n",
    "3. 장고 설치\n",
    "pip install Django\n",
    "\n",
    "4. 의존성 파일 생성\n",
    "- pip freeze > requirements.txt\n",
    "    - .gitignore 생성 (첫 add 전!!)\n",
    "\n",
    "#### 프로젝트와 앱\n",
    "1. Django 프로젝트 생성\n",
    "- django-admin startproject firstpjt .\n",
    "    - 서버 실행: python manage.py runserver\n",
    "\n",
    "2. 앱 생성 후 등록\n",
    "- python manage.py startapp articles\n",
    "- 프로젝트 파일 - settings.py - INSTALLED_APPS 리스트에 앱 추가\n",
    "\n",
    "#### 요청과 응답\n",
    "- URLs -> View -> Template\n",
    "    - urls: 웹주소로 요청이 왔을 때 views 모듈에서 선택한 함수 호출\n",
    "    - views: 함수 생성 - 모든 view함수의 첫번째 인자는 request !! - templates 내 호출할 홈페이지 지정\n",
    "    - templates: 앱 폴더 - templates 폴더 - articles 폴더 - 템플릿 파일 생성"
   ]
  }
 ],
 "metadata": {
  "language_info": {
   "name": "python"
  },
  "orig_nbformat": 4
 },
 "nbformat": 4,
 "nbformat_minor": 2
}
